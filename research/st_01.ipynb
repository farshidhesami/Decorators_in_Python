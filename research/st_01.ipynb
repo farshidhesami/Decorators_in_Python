{
 "cells": [
  {
   "cell_type": "markdown",
   "metadata": {},
   "source": [
    "### Install \"ipykernel\":\n",
    "   - 1-What are Decorators\n",
    "   - 2-How does functions act as object\n",
    "   - 3-Passing the functions as an argument to another function\n",
    "   - 4-How does a function could return another function \n",
    "   - 5-creating custom Decorators\n",
    "   - 6-Changing Decorators\n",
    "\n"
   ]
  },
  {
   "cell_type": "code",
   "execution_count": 1,
   "metadata": {},
   "outputs": [
    {
     "name": "stdout",
     "output_type": "stream",
     "text": [
      "450\n"
     ]
    }
   ],
   "source": [
    "def func_abc(a,b):   \n",
    "    print(a+b)\n",
    "    \n",
    "func_abc(100,350)   \n"
   ]
  },
  {
   "cell_type": "code",
   "execution_count": 3,
   "metadata": {},
   "outputs": [
    {
     "name": "stdout",
     "output_type": "stream",
     "text": [
      "450\n"
     ]
    }
   ],
   "source": [
    "func = func_abc      # Functions act as object\n",
    "\n",
    "func(100,350)  "
   ]
  },
  {
   "cell_type": "markdown",
   "metadata": {},
   "source": [
    "### Passing the functions as an argument to another function"
   ]
  },
  {
   "cell_type": "code",
   "execution_count": 6,
   "metadata": {},
   "outputs": [
    {
     "name": "stdout",
     "output_type": "stream",
     "text": [
      "450\n",
      "The value of main func is  None\n"
     ]
    }
   ],
   "source": [
    "def main_func(func):\n",
    "    values = func(100,350)\n",
    "    print(\"The value of main func is \", values)\n",
    "    \n",
    "main_func(func_abc)"
   ]
  },
  {
   "cell_type": "code",
   "execution_count": 7,
   "metadata": {},
   "outputs": [
    {
     "name": "stdout",
     "output_type": "stream",
     "text": [
      "450\n",
      "The value of main func is  None\n"
     ]
    }
   ],
   "source": [
    "def main_func(func, *args):\n",
    "    values = func(*args)\n",
    "    print(\"The value of main func is \", values)\n",
    "    \n",
    "main_func(func_abc,100,350)"
   ]
  },
  {
   "cell_type": "markdown",
   "metadata": {},
   "source": [
    "### Function could return another function"
   ]
  },
  {
   "cell_type": "code",
   "execution_count": 15,
   "metadata": {},
   "outputs": [],
   "source": [
    "def func_abcd(*args):              # Create a parent function\n",
    "    print(\"printing args\",args)\n",
    "    def abc(y):\n",
    "        print(sum(args) + y)\n",
    "        \n",
    "    return abc  "
   ]
  },
  {
   "cell_type": "code",
   "execution_count": 16,
   "metadata": {},
   "outputs": [
    {
     "name": "stdout",
     "output_type": "stream",
     "text": [
      "printing args (100, 200, 200, 300)\n"
     ]
    }
   ],
   "source": [
    "func = func_abcd(100,200,200,300)"
   ]
  },
  {
   "cell_type": "code",
   "execution_count": 17,
   "metadata": {},
   "outputs": [
    {
     "name": "stdout",
     "output_type": "stream",
     "text": [
      "1300\n"
     ]
    }
   ],
   "source": [
    "func(500)                           # Object "
   ]
  },
  {
   "cell_type": "code",
   "execution_count": 18,
   "metadata": {},
   "outputs": [
    {
     "name": "stdout",
     "output_type": "stream",
     "text": [
      "300\n"
     ]
    }
   ],
   "source": [
    "func(-500)"
   ]
  },
  {
   "cell_type": "markdown",
   "metadata": {},
   "source": [
    "### creating custom Decorators"
   ]
  },
  {
   "cell_type": "code",
   "execution_count": 19,
   "metadata": {},
   "outputs": [],
   "source": [
    "import time\n",
    "def decorator_abc(func):\n",
    "    \n",
    "    def decorator_wrapper():\n",
    "        start_time = time.time()\n",
    "        func()\n",
    "        end_time = time.time()\n",
    "        \n",
    "        \n",
    "        print(end_time - start_time)        \n",
    "    return decorator_wrapper"
   ]
  },
  {
   "cell_type": "code",
   "execution_count": 21,
   "metadata": {},
   "outputs": [
    {
     "name": "stdout",
     "output_type": "stream",
     "text": [
      "499500\n"
     ]
    }
   ],
   "source": [
    "def abc():\n",
    "    sum = 0\n",
    "    for i in range(1,1000):\n",
    "        sum += i\n",
    "        \n",
    "    print(sum)\n",
    "    \n",
    "    \n",
    "abc()"
   ]
  },
  {
   "cell_type": "markdown",
   "metadata": {},
   "source": [
    "### With decorator :\n"
   ]
  },
  {
   "cell_type": "code",
   "execution_count": 26,
   "metadata": {},
   "outputs": [],
   "source": [
    "import time\n",
    "def decorator_abc(func):\n",
    "    \n",
    "    def decorator_wrapper():\n",
    "        start_time = time.time()\n",
    "        func()\n",
    "        end_time = time.time()\n",
    "        \n",
    "        \n",
    "        print(f\"The function took {end_time - start_time} Seconds to get executed\")        \n",
    "    return decorator_wrapper"
   ]
  },
  {
   "cell_type": "code",
   "execution_count": 28,
   "metadata": {},
   "outputs": [
    {
     "name": "stdout",
     "output_type": "stream",
     "text": [
      "499500\n",
      "The function took 0.0010027885437011719 Seconds to get executed\n"
     ]
    }
   ],
   "source": [
    "@decorator_abc\n",
    "def abc():\n",
    "    sum = 0\n",
    "    for i in range(1,1000):\n",
    "        sum += i\n",
    "        \n",
    "    print(sum)\n",
    "    \n",
    "    \n",
    "abc()"
   ]
  },
  {
   "cell_type": "markdown",
   "metadata": {},
   "source": [
    "### Square :"
   ]
  },
  {
   "cell_type": "code",
   "execution_count": 31,
   "metadata": {},
   "outputs": [],
   "source": [
    "def square(func):\n",
    "    def wrapper(*args, **kwargs):\n",
    "        print(\"Inside decorator\")\n",
    "        \n",
    "        \n",
    "        value = func(*args, **kwargs)\n",
    "        \n",
    "        \n",
    "        return value **2\n",
    "    \n",
    "    return wrapper"
   ]
  },
  {
   "cell_type": "code",
   "execution_count": 32,
   "metadata": {},
   "outputs": [
    {
     "data": {
      "text/plain": [
       "6"
      ]
     },
     "execution_count": 32,
     "metadata": {},
     "output_type": "execute_result"
    }
   ],
   "source": [
    "def sum_two(a,b):\n",
    "    return a+b\n",
    "\n",
    "sum_two(2,4)\n",
    "\n"
   ]
  },
  {
   "cell_type": "markdown",
   "metadata": {},
   "source": [
    "### With decorator :"
   ]
  },
  {
   "cell_type": "code",
   "execution_count": 35,
   "metadata": {},
   "outputs": [],
   "source": [
    "def square(func):\n",
    "    def wrapper(*args, **kwargs):\n",
    "        print(\"Inside decorator\")\n",
    "        \n",
    "        \n",
    "        value = func(*args, **kwargs)\n",
    "        \n",
    "        \n",
    "        return value **2\n",
    "    \n",
    "    return wrapper"
   ]
  },
  {
   "cell_type": "code",
   "execution_count": 36,
   "metadata": {},
   "outputs": [
    {
     "name": "stdout",
     "output_type": "stream",
     "text": [
      "Inside decorator\n"
     ]
    },
    {
     "data": {
      "text/plain": [
       "36"
      ]
     },
     "execution_count": 36,
     "metadata": {},
     "output_type": "execute_result"
    }
   ],
   "source": [
    "@square                      # return value **2\n",
    "def sum_two(a,b):\n",
    "    return a+b\n",
    "\n",
    "sum_two(2,4)"
   ]
  }
 ],
 "metadata": {
  "kernelspec": {
   "display_name": "env1",
   "language": "python",
   "name": "python3"
  },
  "language_info": {
   "codemirror_mode": {
    "name": "ipython",
    "version": 3
   },
   "file_extension": ".py",
   "mimetype": "text/x-python",
   "name": "python",
   "nbconvert_exporter": "python",
   "pygments_lexer": "ipython3",
   "version": "3.8.18"
  }
 },
 "nbformat": 4,
 "nbformat_minor": 2
}
