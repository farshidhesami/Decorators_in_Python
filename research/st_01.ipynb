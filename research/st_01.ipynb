{
 "cells": [
  {
   "cell_type": "markdown",
   "metadata": {},
   "source": [
    "### Install \"ipykernel\":\n",
    "   - 1-What are Decorators\n",
    "   - 2-How does functions act as object\n",
    "   - 3-Passing the functions as an argument to another function\n",
    "   - 4-How does a function could return another function \n",
    "   - 5-creating custom Decorators\n",
    "   - 6-Chaining Decorators\n",
    "\n"
   ]
  },
  {
   "cell_type": "code",
   "execution_count": 1,
   "metadata": {},
   "outputs": [
    {
     "name": "stdout",
     "output_type": "stream",
     "text": [
      "450\n"
     ]
    }
   ],
   "source": [
    "def func_abc(a,b):   \n",
    "    print(a+b)\n",
    "    \n",
    "func_abc(100,350)   \n"
   ]
  },
  {
   "cell_type": "code",
   "execution_count": 2,
   "metadata": {},
   "outputs": [
    {
     "name": "stdout",
     "output_type": "stream",
     "text": [
      "450\n"
     ]
    }
   ],
   "source": [
    "func = func_abc      # Functions act as object\n",
    "\n",
    "func(100,350)  "
   ]
  },
  {
   "cell_type": "markdown",
   "metadata": {},
   "source": [
    "### Passing the functions as an argument to another function"
   ]
  },
  {
   "cell_type": "code",
   "execution_count": 3,
   "metadata": {},
   "outputs": [
    {
     "name": "stdout",
     "output_type": "stream",
     "text": [
      "450\n",
      "The value of main func is  None\n"
     ]
    }
   ],
   "source": [
    "def main_func(func):\n",
    "    values = func(100,350)\n",
    "    print(\"The value of main func is \", values)\n",
    "    \n",
    "main_func(func_abc)"
   ]
  },
  {
   "cell_type": "code",
   "execution_count": 4,
   "metadata": {},
   "outputs": [
    {
     "name": "stdout",
     "output_type": "stream",
     "text": [
      "450\n",
      "The value of main func is  None\n"
     ]
    }
   ],
   "source": [
    "def main_func(func, *args):\n",
    "    values = func(*args)\n",
    "    print(\"The value of main func is \", values)\n",
    "    \n",
    "main_func(func_abc,100,350)"
   ]
  },
  {
   "cell_type": "markdown",
   "metadata": {},
   "source": [
    "### Function could return another function"
   ]
  },
  {
   "cell_type": "code",
   "execution_count": 5,
   "metadata": {},
   "outputs": [],
   "source": [
    "def func_abcd(*args):              # Create a parent function\n",
    "    print(\"printing args\",args)\n",
    "    def abc(y):\n",
    "        print(sum(args) + y)\n",
    "        \n",
    "    return abc  "
   ]
  },
  {
   "cell_type": "code",
   "execution_count": 6,
   "metadata": {},
   "outputs": [
    {
     "name": "stdout",
     "output_type": "stream",
     "text": [
      "printing args (100, 200, 200, 300)\n"
     ]
    }
   ],
   "source": [
    "func = func_abcd(100,200,200,300)"
   ]
  },
  {
   "cell_type": "code",
   "execution_count": 7,
   "metadata": {},
   "outputs": [
    {
     "name": "stdout",
     "output_type": "stream",
     "text": [
      "1300\n"
     ]
    }
   ],
   "source": [
    "func(500)                           # Object "
   ]
  },
  {
   "cell_type": "code",
   "execution_count": 8,
   "metadata": {},
   "outputs": [
    {
     "name": "stdout",
     "output_type": "stream",
     "text": [
      "300\n"
     ]
    }
   ],
   "source": [
    "func(-500)"
   ]
  },
  {
   "cell_type": "markdown",
   "metadata": {},
   "source": [
    "### creating custom Decorators"
   ]
  },
  {
   "cell_type": "code",
   "execution_count": 9,
   "metadata": {},
   "outputs": [],
   "source": [
    "import time\n",
    "def decorator_abc(func):\n",
    "    \n",
    "    def decorator_wrapper():\n",
    "        start_time = time.time()\n",
    "        func()\n",
    "        end_time = time.time()\n",
    "        \n",
    "        \n",
    "        print(end_time - start_time)        \n",
    "    return decorator_wrapper"
   ]
  },
  {
   "cell_type": "code",
   "execution_count": 10,
   "metadata": {},
   "outputs": [
    {
     "name": "stdout",
     "output_type": "stream",
     "text": [
      "499500\n"
     ]
    }
   ],
   "source": [
    "def abc():\n",
    "    sum = 0\n",
    "    for i in range(1,1000):\n",
    "        sum += i\n",
    "        \n",
    "    print(sum)\n",
    "    \n",
    "    \n",
    "abc()"
   ]
  },
  {
   "cell_type": "markdown",
   "metadata": {},
   "source": [
    "### With decorator :\n"
   ]
  },
  {
   "cell_type": "code",
   "execution_count": 11,
   "metadata": {},
   "outputs": [],
   "source": [
    "import time\n",
    "def decorator_abc(func):\n",
    "    \n",
    "    def decorator_wrapper():\n",
    "        start_time = time.time()\n",
    "        func()\n",
    "        end_time = time.time()\n",
    "        \n",
    "        \n",
    "        print(f\"The function took {end_time - start_time} Seconds to get executed\")        \n",
    "    return decorator_wrapper"
   ]
  },
  {
   "cell_type": "code",
   "execution_count": 12,
   "metadata": {},
   "outputs": [
    {
     "name": "stdout",
     "output_type": "stream",
     "text": [
      "499500\n",
      "The function took 0.0010020732879638672 Seconds to get executed\n"
     ]
    }
   ],
   "source": [
    "@decorator_abc\n",
    "def abc():\n",
    "    sum = 0\n",
    "    for i in range(1,1000):\n",
    "        sum += i\n",
    "        \n",
    "    print(sum)\n",
    "    \n",
    "    \n",
    "abc()"
   ]
  },
  {
   "cell_type": "markdown",
   "metadata": {},
   "source": [
    "### Square :"
   ]
  },
  {
   "cell_type": "code",
   "execution_count": 13,
   "metadata": {},
   "outputs": [],
   "source": [
    "def square(func):\n",
    "    def wrapper(*args, **kwargs):\n",
    "        print(\"Inside decorator\")\n",
    "        \n",
    "        \n",
    "        value = func(*args, **kwargs)\n",
    "        \n",
    "        \n",
    "        return value **2\n",
    "    \n",
    "    return wrapper"
   ]
  },
  {
   "cell_type": "code",
   "execution_count": 14,
   "metadata": {},
   "outputs": [
    {
     "data": {
      "text/plain": [
       "6"
      ]
     },
     "execution_count": 14,
     "metadata": {},
     "output_type": "execute_result"
    }
   ],
   "source": [
    "def sum_two(a,b):\n",
    "    return a+b\n",
    "\n",
    "sum_two(2,4)\n",
    "\n"
   ]
  },
  {
   "cell_type": "markdown",
   "metadata": {},
   "source": [
    "### With decorator :"
   ]
  },
  {
   "cell_type": "code",
   "execution_count": 15,
   "metadata": {},
   "outputs": [],
   "source": [
    "def square(func):\n",
    "    def wrapper(*args, **kwargs):\n",
    "        print(\"Inside decorator\")\n",
    "        \n",
    "        \n",
    "        value = func(*args, **kwargs)\n",
    "        \n",
    "        \n",
    "        return value **2\n",
    "    \n",
    "    return wrapper"
   ]
  },
  {
   "cell_type": "code",
   "execution_count": 16,
   "metadata": {},
   "outputs": [
    {
     "name": "stdout",
     "output_type": "stream",
     "text": [
      "Inside decorator\n"
     ]
    },
    {
     "data": {
      "text/plain": [
       "36"
      ]
     },
     "execution_count": 16,
     "metadata": {},
     "output_type": "execute_result"
    }
   ],
   "source": [
    "@square                      # return value **2\n",
    "def sum_two(a,b):\n",
    "    return a+b\n",
    "\n",
    "sum_two(2,4)"
   ]
  },
  {
   "cell_type": "code",
   "execution_count": 17,
   "metadata": {},
   "outputs": [],
   "source": [
    "def square(func):\n",
    "    def wrapper(*args, **kwargs):\n",
    "        print(\"Inside decorator\")\n",
    "        \n",
    "        \n",
    "        value = func(*args, **kwargs)\n",
    "        \n",
    "        \n",
    "        return value /2\n",
    "    \n",
    "    return wrapper"
   ]
  },
  {
   "cell_type": "code",
   "execution_count": 18,
   "metadata": {},
   "outputs": [
    {
     "name": "stdout",
     "output_type": "stream",
     "text": [
      "Inside decorator\n"
     ]
    },
    {
     "data": {
      "text/plain": [
       "3.0"
      ]
     },
     "execution_count": 18,
     "metadata": {},
     "output_type": "execute_result"
    }
   ],
   "source": [
    "@square                      # return value /2\n",
    "def sum_two(a,b):\n",
    "    return a+b\n",
    "\n",
    "sum_two(2,4)"
   ]
  },
  {
   "cell_type": "markdown",
   "metadata": {},
   "source": [
    "### Chaining Decorators"
   ]
  },
  {
   "cell_type": "code",
   "execution_count": 19,
   "metadata": {},
   "outputs": [
    {
     "data": {
      "text/plain": [
       "'ABCDEFGHIJKLMNOpqrstuvwxyz'"
      ]
     },
     "execution_count": 19,
     "metadata": {},
     "output_type": "execute_result"
    }
   ],
   "source": [
    "def decor_1(func):\n",
    "    def wrapper():\n",
    "        value:str = func()\n",
    "        print(\"upper\", value)\n",
    "        return value.upper()\n",
    "    return wrapper\n",
    "\n",
    "def decor_2(func):\n",
    "    def wrapper():\n",
    "        value:str = func()\n",
    "        print(\"lower\", value)\n",
    "        return value.lower()\n",
    "    return wrapper\n",
    "    \n",
    "def abcd():\n",
    "    return \"ABCDEFGHIJKLMNOpqrstuvwxyz\"\n",
    "\n",
    "abcd()"
   ]
  },
  {
   "cell_type": "markdown",
   "metadata": {},
   "source": [
    "### Add a decorator :"
   ]
  },
  {
   "cell_type": "code",
   "execution_count": 22,
   "metadata": {},
   "outputs": [
    {
     "name": "stdout",
     "output_type": "stream",
     "text": [
      "lower ABCDEFGHIJKLMNOpqrstuvwxyz\n",
      "upper abcdefghijklmnopqrstuvwxyz\n"
     ]
    },
    {
     "data": {
      "text/plain": [
       "'ABCDEFGHIJKLMNOPQRSTUVWXYZ'"
      ]
     },
     "execution_count": 22,
     "metadata": {},
     "output_type": "execute_result"
    }
   ],
   "source": [
    "def decor_1(func):\n",
    "    def wrapper():\n",
    "        value:str = func()\n",
    "        print(\"upper\", value)\n",
    "        return value.upper()\n",
    "    return wrapper\n",
    "\n",
    "def decor_2(func):\n",
    "    def wrapper():\n",
    "        value:str = func()\n",
    "        print(\"lower\", value)\n",
    "        return value.lower()\n",
    "    return wrapper\n",
    "\n",
    "@decor_1 \n",
    "@decor_2   \n",
    "def abcd():\n",
    "    return \"ABCDEFGHIJKLMNOpqrstuvwxyz\"\n",
    "\n",
    "abcd()"
   ]
  },
  {
   "cell_type": "markdown",
   "metadata": {},
   "source": [
    "### Other example"
   ]
  },
  {
   "cell_type": "code",
   "execution_count": 24,
   "metadata": {},
   "outputs": [],
   "source": [
    "# First decorator: doubles the value\n",
    "def double(func):\n",
    "    def wrapper():\n",
    "        value = func()\n",
    "        print(f\"Doubling {value}\")\n",
    "        return value * 2\n",
    "    return wrapper\n",
    "\n",
    "# Second decorator: triples the value\n",
    "def triple(func):\n",
    "    def wrapper():\n",
    "        value = func()\n",
    "        print(f\"Tripling {value}\")\n",
    "        return value * 3\n",
    "    return wrapper\n",
    "\n",
    "# Applying both decorators\n",
    "@double\n",
    "@triple\n",
    "def get_number():\n",
    "    return 5"
   ]
  },
  {
   "cell_type": "markdown",
   "metadata": {},
   "source": [
    "### Explain :\n",
    "\n",
    "- we'll create two decorators, `double` and `triple`, that will double and triple a number, respectively. \n",
    "- Then we'll apply both decorators to a simple function that returns a number.\n",
    "\n",
    "- When you call `get_number()`, the following will happen:\n",
    "\n",
    "- 1. `triple` will be called first (because it's the innermost decorator). It triples the number 5 and returns 15.\n",
    "- 2. `double` will be called next, taking the result from `triple` (i.e., 15). It doubles 15 and returns 30.\n",
    "\n",
    "#### Here's the flow:\n",
    "\n",
    "- `get_number()` returns 5\n",
    "- `triple(get_number())` returns \\(5 \\times 3 = 15\\)\n",
    "- `double(triple(get_number()))` returns \\(15 \\times 2 = 30\\)\n",
    "\n"
   ]
  },
  {
   "cell_type": "code",
   "execution_count": 25,
   "metadata": {},
   "outputs": [
    {
     "name": "stdout",
     "output_type": "stream",
     "text": [
      "Tripling 5\n",
      "Doubling 15\n"
     ]
    },
    {
     "data": {
      "text/plain": [
       "30"
      ]
     },
     "execution_count": 25,
     "metadata": {},
     "output_type": "execute_result"
    }
   ],
   "source": [
    "get_number()"
   ]
  }
 ],
 "metadata": {
  "kernelspec": {
   "display_name": "env1",
   "language": "python",
   "name": "python3"
  },
  "language_info": {
   "codemirror_mode": {
    "name": "ipython",
    "version": 3
   },
   "file_extension": ".py",
   "mimetype": "text/x-python",
   "name": "python",
   "nbconvert_exporter": "python",
   "pygments_lexer": "ipython3",
   "version": "3.8.18"
  }
 },
 "nbformat": 4,
 "nbformat_minor": 2
}
